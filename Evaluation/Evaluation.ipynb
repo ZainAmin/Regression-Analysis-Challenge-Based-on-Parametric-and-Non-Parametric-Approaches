{
 "cells": [
  {
   "cell_type": "code",
   "execution_count": 1,
   "id": "c2d6ae7f",
   "metadata": {},
   "outputs": [
    {
     "name": "stdout",
     "output_type": "stream",
     "text": [
      "Mean Square Error: 0.00014825521090522777\n"
     ]
    }
   ],
   "source": [
    "import csv\n",
    "import numpy as np\n",
    "\n",
    "def calculate_mse(csv_file):\n",
    "    y_true = []\n",
    "    y_pred = []\n",
    "\n",
    "    # Read the CSV file\n",
    "    with open(csv_file, 'r') as file:\n",
    "        reader = csv.reader(file)\n",
    "        next(reader)  # Skip the header row\n",
    "\n",
    "        # Extract actual and predicted labels\n",
    "        for row in reader:\n",
    "            y_true.append(float(row[0]))\n",
    "            y_pred.append(float(row[1]))\n",
    "\n",
    "    # Calculate the Mean Square Error\n",
    "    mse = np.mean((np.array(y_true) - np.array(y_pred)) ** 2)\n",
    "    return mse\n",
    "\n",
    "# Example usage\n",
    "csv_file_path = 'LM.csv'\n",
    "mse_value = calculate_mse(csv_file_path)\n",
    "print(f\"Mean Square Error: {mse_value}\")\n"
   ]
  },
  {
   "cell_type": "code",
   "execution_count": 2,
   "id": "bc2cb20c",
   "metadata": {},
   "outputs": [
    {
     "name": "stdout",
     "output_type": "stream",
     "text": [
      "Mean Square Error: 1.991700395145068\n"
     ]
    }
   ],
   "source": [
    "import csv\n",
    "import numpy as np\n",
    "\n",
    "def calculate_mse(csv_file):\n",
    "    y_true = []\n",
    "    y_pred = []\n",
    "\n",
    "    # Read the CSV file\n",
    "    with open(csv_file, 'r') as file:\n",
    "        reader = csv.reader(file)\n",
    "        next(reader)  # Skip the header row\n",
    "\n",
    "        # Extract actual and predicted labels\n",
    "        for row in reader:\n",
    "            y_true.append(float(row[0]))\n",
    "            y_pred.append(float(row[1]))\n",
    "\n",
    "    # Calculate the Mean Square Error\n",
    "    mse = np.mean((np.array(y_true) - np.array(y_pred)) ** 2)\n",
    "    return mse\n",
    "\n",
    "# Example usage\n",
    "csv_file_path = 'KNN.csv'\n",
    "mse_value = calculate_mse(csv_file_path)\n",
    "print(f\"Mean Square Error: {mse_value}\")\n"
   ]
  },
  {
   "cell_type": "code",
   "execution_count": null,
   "id": "37e461e8",
   "metadata": {},
   "outputs": [],
   "source": []
  }
 ],
 "metadata": {
  "kernelspec": {
   "display_name": "Python 3 (ipykernel)",
   "language": "python",
   "name": "python3"
  },
  "language_info": {
   "codemirror_mode": {
    "name": "ipython",
    "version": 3
   },
   "file_extension": ".py",
   "mimetype": "text/x-python",
   "name": "python",
   "nbconvert_exporter": "python",
   "pygments_lexer": "ipython3",
   "version": "3.8.0"
  }
 },
 "nbformat": 4,
 "nbformat_minor": 5
}
